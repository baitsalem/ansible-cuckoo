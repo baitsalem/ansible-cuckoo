{
  "nbformat": 4,
  "nbformat_minor": 0,
  "metadata": {
    "kernelspec": {
      "display_name": "Python 3",
      "language": "python",
      "name": "python3"
    },
    "language_info": {
      "codemirror_mode": {
        "name": "ipython",
        "version": 3
      },
      "file_extension": ".py",
      "mimetype": "text/x-python",
      "name": "python",
      "nbconvert_exporter": "python",
      "pygments_lexer": "ipython3",
      "version": "3.7.3"
    },
    "colab": {
      "name": "TP1.ipynb",
      "provenance": [],
      "include_colab_link": true
    }
  },
  "cells": [
    {
      "cell_type": "markdown",
      "metadata": {
        "id": "view-in-github",
        "colab_type": "text"
      },
      "source": [
        "<a href=\"https://colab.research.google.com/github/baitsalem/ansible-cuckoo/blob/master/TP1.ipynb\" target=\"_parent\"><img src=\"https://colab.research.google.com/assets/colab-badge.svg\" alt=\"Open In Colab\"/></a>"
      ]
    },
    {
      "cell_type": "markdown",
      "metadata": {
        "id": "9SQqqqNOp2Yt",
        "colab_type": "text"
      },
      "source": [
        "# TP 1 : Scikit-Learn\n",
        "***Objectif: apprendre à utiliser la librairie ScikitLearn***"
      ]
    },
    {
      "cell_type": "markdown",
      "metadata": {
        "id": "nkA57iw0p2Yx",
        "colab_type": "text"
      },
      "source": [
        "## NumPy array\n",
        "Toutes les données acceptées par Scikit-Learn sont convertis en **NumPy array**. Sa structure de base est la classe **ndarray** qui est un vecteur (liste) à n-dimensions. Tous les éléments de la liste doivent être de même type."
      ]
    },
    {
      "cell_type": "code",
      "metadata": {
        "id": "bMO5HFRup2Yz",
        "colab_type": "code",
        "colab": {},
        "outputId": "39764278-88c7-4ba3-f6e4-23ab1b895959"
      },
      "source": [
        "import numpy as np\n",
        "\n",
        "x = np.array([[1, 2, 3], [4, 5, 6],[7, 8, 9],[10,11,12],[13,14,15],[16,17,18],[19,20,21]])\n",
        "print(\"x:\\n{}\".format(x))"
      ],
      "execution_count": 0,
      "outputs": [
        {
          "output_type": "stream",
          "text": [
            "x:\n",
            "[[ 1  2  3]\n",
            " [ 4  5  6]\n",
            " [ 7  8  9]\n",
            " [10 11 12]\n",
            " [13 14 15]\n",
            " [16 17 18]\n",
            " [19 20 21]]\n"
          ],
          "name": "stdout"
        }
      ]
    },
    {
      "cell_type": "code",
      "metadata": {
        "id": "69C0l554p2Y7",
        "colab_type": "code",
        "colab": {},
        "outputId": "990f3bb8-0b93-4f1d-a421-40f5f4dae9af"
      },
      "source": [
        "print(type(x))"
      ],
      "execution_count": 0,
      "outputs": [
        {
          "output_type": "stream",
          "text": [
            "<class 'numpy.ndarray'>\n"
          ],
          "name": "stdout"
        }
      ]
    },
    {
      "cell_type": "code",
      "metadata": {
        "id": "9wpu_7_fp2Y_",
        "colab_type": "code",
        "colab": {},
        "outputId": "484dc639-0ddf-4f40-fd55-4cf3c84b8ff9"
      },
      "source": [
        "print(x.shape)"
      ],
      "execution_count": 0,
      "outputs": [
        {
          "output_type": "stream",
          "text": [
            "(7, 3)\n"
          ],
          "name": "stdout"
        }
      ]
    },
    {
      "cell_type": "markdown",
      "metadata": {
        "id": "WE5vahT0p2Zg",
        "colab_type": "text"
      },
      "source": [
        "## SciPy\n"
      ]
    },
    {
      "cell_type": "code",
      "metadata": {
        "id": "2LAFLOSop2Zh",
        "colab_type": "code",
        "colab": {},
        "outputId": "9c4cbc59-2dca-4f92-cac8-a540ce1703a3"
      },
      "source": [
        "from scipy import sparse\n",
        "\n",
        "# Create a 2D NumPy array with a diagonal of ones, and zeros everywhere else\n",
        "eye = np.eye(4,4,dtype=float,k=0)\n",
        "print(\"NumPy array:\\n\", eye)"
      ],
      "execution_count": 0,
      "outputs": [
        {
          "output_type": "stream",
          "text": [
            "NumPy array:\n",
            " [[1. 0. 0. 0.]\n",
            " [0. 1. 0. 0.]\n",
            " [0. 0. 1. 0.]\n",
            " [0. 0. 0. 1.]]\n"
          ],
          "name": "stdout"
        }
      ]
    },
    {
      "cell_type": "markdown",
      "metadata": {
        "id": "59q2K1jPp2Zl",
        "colab_type": "text"
      },
      "source": [
        "Convert the NumPy array to a SciPy sparse matrix in CSR format. Only the nonzero entries are stored"
      ]
    },
    {
      "cell_type": "code",
      "metadata": {
        "id": "I6qThzRbp2Zm",
        "colab_type": "code",
        "colab": {},
        "outputId": "37c588c7-351e-465d-f09c-d6d294158080"
      },
      "source": [
        "sparse_matrix = sparse.csr_matrix(eye)\n",
        "print(\"\\nSciPy sparse CSR matrix:\\n\", sparse_matrix)"
      ],
      "execution_count": 0,
      "outputs": [
        {
          "output_type": "stream",
          "text": [
            "\n",
            "SciPy sparse CSR matrix:\n",
            "   (0, 0)\t1.0\n",
            "  (1, 1)\t1.0\n",
            "  (2, 2)\t1.0\n",
            "  (3, 3)\t1.0\n"
          ],
          "name": "stdout"
        }
      ]
    },
    {
      "cell_type": "markdown",
      "metadata": {
        "id": "9eSlLctvp2Zq",
        "colab_type": "text"
      },
      "source": [
        "> Modifiez k en 1 puis en -1, ensuite regénérez la matrice CSR."
      ]
    },
    {
      "cell_type": "code",
      "metadata": {
        "id": "le5l6RmHp2Zr",
        "colab_type": "code",
        "colab": {},
        "outputId": "00946cc3-0d67-4c30-dba8-2b2aa3b77953"
      },
      "source": [
        "data = np.ones(4)\n",
        "row_indices = np.arange(4)\n",
        "col_indices = np.arange(4)\n",
        "eye_coo = sparse.coo_matrix((data, (row_indices, col_indices)))\n",
        "print(\"COO representation:\\n\", eye_coo)"
      ],
      "execution_count": 0,
      "outputs": [
        {
          "output_type": "stream",
          "text": [
            "COO representation:\n",
            "   (0, 0)\t1.0\n",
            "  (1, 1)\t1.0\n",
            "  (2, 2)\t1.0\n",
            "  (3, 3)\t1.0\n"
          ],
          "name": "stdout"
        }
      ]
    },
    {
      "cell_type": "markdown",
      "metadata": {
        "id": "v5RJ-F_mp2Zv",
        "colab_type": "text"
      },
      "source": [
        "Quelle est la différence avec la première méthode ?"
      ]
    },
    {
      "cell_type": "markdown",
      "metadata": {
        "id": "i3La0B_Ip2Zw",
        "colab_type": "text"
      },
      "source": [
        "## matplotlib"
      ]
    },
    {
      "cell_type": "code",
      "metadata": {
        "id": "viE1lEfpp2Zx",
        "colab_type": "code",
        "colab": {},
        "outputId": "2bcd1c35-7678-4737-8137-4eac55f149d4"
      },
      "source": [
        "%matplotlib inline\n",
        "#%matplotlib notebook\n",
        "import matplotlib.pyplot as plt\n",
        "\n",
        "# Generate a sequence of numbers from -10 to 10 with 100 steps in between\n",
        "x = np.linspace(-10, 10, 100)\n",
        "# Create a second array using sine\n",
        "y = np.sign(x)\n",
        "# The plot function makes a line chart of one array against another\n",
        "plt.plot(x, y, marker=\"x\")"
      ],
      "execution_count": 0,
      "outputs": [
        {
          "output_type": "execute_result",
          "data": {
            "text/plain": [
              "[<matplotlib.lines.Line2D at 0x7f47780e74d0>]"
            ]
          },
          "metadata": {
            "tags": []
          },
          "execution_count": 124
        },
        {
          "output_type": "display_data",
          "data": {
            "image/png": "[encoded data removed]",
            "text/plain": [
              "<Figure size 432x288 with 1 Axes>"
            ]
          },
          "metadata": {
            "tags": [],
            "needs_background": "light"
          }
        }
      ]
    },
    {
      "cell_type": "markdown",
      "metadata": {
        "id": "wGVMAQF8p2Z1",
        "colab_type": "text"
      },
      "source": [
        "> afficher les fonction suivantes : cos, sign, exp"
      ]
    },
    {
      "cell_type": "markdown",
      "metadata": {
        "id": "ZuZTaG0Op2Z2",
        "colab_type": "text"
      },
      "source": [
        "## pandas\n",
        "\n",
        "pandas is a Python library for data wrangling and analysis. It is built around a data structure called the DataFrame that is modeled after the R DataFrame. \n",
        "In contrast to NumPy, which requires that all entries in an array be of the same type, pandas allows each column to have a separate type (for example, integers, dates, floating-point numbers, and strings).\n",
        "\n",
        "Pandas DataFrame is a table, similar to an Excel spreadsheet. pandas provides a great range of methods to modify and operate on this table; in particular, it allows SQL-like queries and joins of tables\n"
      ]
    },
    {
      "cell_type": "code",
      "metadata": {
        "id": "qoK0Km59p2Z2",
        "colab_type": "code",
        "colab": {},
        "outputId": "1333b65e-321d-4e6a-c0df-6dd1011d484f"
      },
      "source": [
        "import pandas as pd\n",
        "from IPython.display import display\n",
        "\n",
        "# create a simple dataset of people\n",
        "data = {'Name': [\"John\", \"Anna\", \"Peter\", \"Linda\"],\n",
        "        'Location' : [\"New York\", \"Paris\", \"Berlin\", \"London\"],\n",
        "        'Age' : [24, 13, 53, 33]\n",
        "       }\n",
        "\n",
        "data_pandas = pd.DataFrame(data)\n",
        "# IPython.display allows \"pretty printing\" of dataframes\n",
        "# in the Jupyter notebook\n",
        "display(data_pandas)"
      ],
      "execution_count": 0,
      "outputs": [
        {
          "output_type": "display_data",
          "data": {
            "text/html": [
              "<div>\n",
              "<style scoped>\n",
              "    .dataframe tbody tr th:only-of-type {\n",
              "        vertical-align: middle;\n",
              "    }\n",
              "\n",
              "    .dataframe tbody tr th {\n",
              "        vertical-align: top;\n",
              "    }\n",
              "\n",
              "    .dataframe thead th {\n",
              "        text-align: right;\n",
              "    }\n",
              "</style>\n",
              "<table border=\"1\" class=\"dataframe\">\n",
              "  <thead>\n",
              "    <tr style=\"text-align: right;\">\n",
              "      <th></th>\n",
              "      <th>Name</th>\n",
              "      <th>Location</th>\n",
              "      <th>Age</th>\n",
              "    </tr>\n",
              "  </thead>\n",
              "  <tbody>\n",
              "    <tr>\n",
              "      <td>0</td>\n",
              "      <td>John</td>\n",
              "      <td>New York</td>\n",
              "      <td>24</td>\n",
              "    </tr>\n",
              "    <tr>\n",
              "      <td>1</td>\n",
              "      <td>Anna</td>\n",
              "      <td>Paris</td>\n",
              "      <td>13</td>\n",
              "    </tr>\n",
              "    <tr>\n",
              "      <td>2</td>\n",
              "      <td>Peter</td>\n",
              "      <td>Berlin</td>\n",
              "      <td>53</td>\n",
              "    </tr>\n",
              "    <tr>\n",
              "      <td>3</td>\n",
              "      <td>Linda</td>\n",
              "      <td>London</td>\n",
              "      <td>33</td>\n",
              "    </tr>\n",
              "  </tbody>\n",
              "</table>\n",
              "</div>"
            ],
            "text/plain": [
              "    Name  Location  Age\n",
              "0   John  New York   24\n",
              "1   Anna     Paris   13\n",
              "2  Peter    Berlin   53\n",
              "3  Linda    London   33"
            ]
          },
          "metadata": {
            "tags": []
          }
        }
      ]
    },
    {
      "cell_type": "code",
      "metadata": {
        "id": "LaS4hPJ_p2Z5",
        "colab_type": "code",
        "colab": {},
        "outputId": "2b7a62a7-6d4c-4f9d-ecf1-8a162b52ea9d"
      },
      "source": [
        "# Select all rows that have an age column greater than 30\n",
        "display(data_pandas[data_pandas.Name == \"Anna\"])"
      ],
      "execution_count": 0,
      "outputs": [
        {
          "output_type": "display_data",
          "data": {
            "text/html": [
              "<div>\n",
              "<style scoped>\n",
              "    .dataframe tbody tr th:only-of-type {\n",
              "        vertical-align: middle;\n",
              "    }\n",
              "\n",
              "    .dataframe tbody tr th {\n",
              "        vertical-align: top;\n",
              "    }\n",
              "\n",
              "    .dataframe thead th {\n",
              "        text-align: right;\n",
              "    }\n",
              "</style>\n",
              "<table border=\"1\" class=\"dataframe\">\n",
              "  <thead>\n",
              "    <tr style=\"text-align: right;\">\n",
              "      <th></th>\n",
              "      <th>Name</th>\n",
              "      <th>Location</th>\n",
              "      <th>Age</th>\n",
              "    </tr>\n",
              "  </thead>\n",
              "  <tbody>\n",
              "    <tr>\n",
              "      <td>1</td>\n",
              "      <td>Anna</td>\n",
              "      <td>Paris</td>\n",
              "      <td>13</td>\n",
              "    </tr>\n",
              "  </tbody>\n",
              "</table>\n",
              "</div>"
            ],
            "text/plain": [
              "   Name Location  Age\n",
              "1  Anna    Paris   13"
            ]
          },
          "metadata": {
            "tags": []
          }
        }
      ]
    },
    {
      "cell_type": "markdown",
      "metadata": {
        "id": "GDlsKGPCp2Z7",
        "colab_type": "text"
      },
      "source": [
        "> Requêtes : \n",
        "- la liste"
      ]
    },
    {
      "cell_type": "code",
      "metadata": {
        "id": "GPd_-c3Vp2Z8",
        "colab_type": "code",
        "colab": {},
        "outputId": "7c27efe9-b634-4e21-eb61-5ec18a8c26c9"
      },
      "source": [
        "ramprice = pd.read_csv('ram_price.csv',delimiter=',')\n",
        "display(ramprice)"
      ],
      "execution_count": 0,
      "outputs": [
        {
          "output_type": "display_data",
          "data": {
            "text/html": [
              "<div>\n",
              "<style scoped>\n",
              "    .dataframe tbody tr th:only-of-type {\n",
              "        vertical-align: middle;\n",
              "    }\n",
              "\n",
              "    .dataframe tbody tr th {\n",
              "        vertical-align: top;\n",
              "    }\n",
              "\n",
              "    .dataframe thead th {\n",
              "        text-align: right;\n",
              "    }\n",
              "</style>\n",
              "<table border=\"1\" class=\"dataframe\">\n",
              "  <thead>\n",
              "    <tr style=\"text-align: right;\">\n",
              "      <th></th>\n",
              "      <th>Unnamed: 0</th>\n",
              "      <th>date</th>\n",
              "      <th>price</th>\n",
              "    </tr>\n",
              "  </thead>\n",
              "  <tbody>\n",
              "    <tr>\n",
              "      <td>0</td>\n",
              "      <td>0</td>\n",
              "      <td>1957.00</td>\n",
              "      <td>4.110418e+08</td>\n",
              "    </tr>\n",
              "    <tr>\n",
              "      <td>1</td>\n",
              "      <td>1</td>\n",
              "      <td>1959.00</td>\n",
              "      <td>6.794772e+07</td>\n",
              "    </tr>\n",
              "    <tr>\n",
              "      <td>2</td>\n",
              "      <td>2</td>\n",
              "      <td>1960.00</td>\n",
              "      <td>5.242880e+06</td>\n",
              "    </tr>\n",
              "    <tr>\n",
              "      <td>3</td>\n",
              "      <td>3</td>\n",
              "      <td>1965.00</td>\n",
              "      <td>2.642412e+06</td>\n",
              "    </tr>\n",
              "    <tr>\n",
              "      <td>4</td>\n",
              "      <td>4</td>\n",
              "      <td>1970.00</td>\n",
              "      <td>7.340030e+05</td>\n",
              "    </tr>\n",
              "    <tr>\n",
              "      <td>...</td>\n",
              "      <td>...</td>\n",
              "      <td>...</td>\n",
              "      <td>...</td>\n",
              "    </tr>\n",
              "    <tr>\n",
              "      <td>328</td>\n",
              "      <td>328</td>\n",
              "      <td>2015.58</td>\n",
              "      <td>4.500000e-03</td>\n",
              "    </tr>\n",
              "    <tr>\n",
              "      <td>329</td>\n",
              "      <td>329</td>\n",
              "      <td>2015.67</td>\n",
              "      <td>4.300000e-03</td>\n",
              "    </tr>\n",
              "    <tr>\n",
              "      <td>330</td>\n",
              "      <td>330</td>\n",
              "      <td>2015.75</td>\n",
              "      <td>4.200000e-03</td>\n",
              "    </tr>\n",
              "    <tr>\n",
              "      <td>331</td>\n",
              "      <td>331</td>\n",
              "      <td>2015.83</td>\n",
              "      <td>3.800000e-03</td>\n",
              "    </tr>\n",
              "    <tr>\n",
              "      <td>332</td>\n",
              "      <td>332</td>\n",
              "      <td>2015.92</td>\n",
              "      <td>3.700000e-03</td>\n",
              "    </tr>\n",
              "  </tbody>\n",
              "</table>\n",
              "<p>333 rows × 3 columns</p>\n",
              "</div>"
            ],
            "text/plain": [
              "     Unnamed: 0     date         price\n",
              "0             0  1957.00  4.110418e+08\n",
              "1             1  1959.00  6.794772e+07\n",
              "2             2  1960.00  5.242880e+06\n",
              "3             3  1965.00  2.642412e+06\n",
              "4             4  1970.00  7.340030e+05\n",
              "..          ...      ...           ...\n",
              "328         328  2015.58  4.500000e-03\n",
              "329         329  2015.67  4.300000e-03\n",
              "330         330  2015.75  4.200000e-03\n",
              "331         331  2015.83  3.800000e-03\n",
              "332         332  2015.92  3.700000e-03\n",
              "\n",
              "[333 rows x 3 columns]"
            ]
          },
          "metadata": {
            "tags": []
          }
        }
      ]
    },
    {
      "cell_type": "code",
      "metadata": {
        "id": "ryiSCkXRp2Z-",
        "colab_type": "code",
        "colab": {},
        "outputId": "50db3279-826a-4d47-c7fe-7522051ff008"
      },
      "source": [
        "display(ramprice[ramprice.price < 4])"
      ],
      "execution_count": 0,
      "outputs": [
        {
          "output_type": "display_data",
          "data": {
            "text/html": [
              "<div>\n",
              "<style scoped>\n",
              "    .dataframe tbody tr th:only-of-type {\n",
              "        vertical-align: middle;\n",
              "    }\n",
              "\n",
              "    .dataframe tbody tr th {\n",
              "        vertical-align: top;\n",
              "    }\n",
              "\n",
              "    .dataframe thead th {\n",
              "        text-align: right;\n",
              "    }\n",
              "</style>\n",
              "<table border=\"1\" class=\"dataframe\">\n",
              "  <thead>\n",
              "    <tr style=\"text-align: right;\">\n",
              "      <th></th>\n",
              "      <th>Unnamed: 0</th>\n",
              "      <th>date</th>\n",
              "      <th>price</th>\n",
              "    </tr>\n",
              "  </thead>\n",
              "  <tbody>\n",
              "    <tr>\n",
              "      <td>170</td>\n",
              "      <td>170</td>\n",
              "      <td>1997.08</td>\n",
              "      <td>3.6300</td>\n",
              "    </tr>\n",
              "    <tr>\n",
              "      <td>171</td>\n",
              "      <td>171</td>\n",
              "      <td>1997.17</td>\n",
              "      <td>3.0000</td>\n",
              "    </tr>\n",
              "    <tr>\n",
              "      <td>172</td>\n",
              "      <td>172</td>\n",
              "      <td>1997.25</td>\n",
              "      <td>3.0000</td>\n",
              "    </tr>\n",
              "    <tr>\n",
              "      <td>173</td>\n",
              "      <td>173</td>\n",
              "      <td>1997.33</td>\n",
              "      <td>3.0000</td>\n",
              "    </tr>\n",
              "    <tr>\n",
              "      <td>174</td>\n",
              "      <td>174</td>\n",
              "      <td>1997.42</td>\n",
              "      <td>3.6900</td>\n",
              "    </tr>\n",
              "    <tr>\n",
              "      <td>...</td>\n",
              "      <td>...</td>\n",
              "      <td>...</td>\n",
              "      <td>...</td>\n",
              "    </tr>\n",
              "    <tr>\n",
              "      <td>328</td>\n",
              "      <td>328</td>\n",
              "      <td>2015.58</td>\n",
              "      <td>0.0045</td>\n",
              "    </tr>\n",
              "    <tr>\n",
              "      <td>329</td>\n",
              "      <td>329</td>\n",
              "      <td>2015.67</td>\n",
              "      <td>0.0043</td>\n",
              "    </tr>\n",
              "    <tr>\n",
              "      <td>330</td>\n",
              "      <td>330</td>\n",
              "      <td>2015.75</td>\n",
              "      <td>0.0042</td>\n",
              "    </tr>\n",
              "    <tr>\n",
              "      <td>331</td>\n",
              "      <td>331</td>\n",
              "      <td>2015.83</td>\n",
              "      <td>0.0038</td>\n",
              "    </tr>\n",
              "    <tr>\n",
              "      <td>332</td>\n",
              "      <td>332</td>\n",
              "      <td>2015.92</td>\n",
              "      <td>0.0037</td>\n",
              "    </tr>\n",
              "  </tbody>\n",
              "</table>\n",
              "<p>161 rows × 3 columns</p>\n",
              "</div>"
            ],
            "text/plain": [
              "     Unnamed: 0     date   price\n",
              "170         170  1997.08  3.6300\n",
              "171         171  1997.17  3.0000\n",
              "172         172  1997.25  3.0000\n",
              "173         173  1997.33  3.0000\n",
              "174         174  1997.42  3.6900\n",
              "..          ...      ...     ...\n",
              "328         328  2015.58  0.0045\n",
              "329         329  2015.67  0.0043\n",
              "330         330  2015.75  0.0042\n",
              "331         331  2015.83  0.0038\n",
              "332         332  2015.92  0.0037\n",
              "\n",
              "[161 rows x 3 columns]"
            ]
          },
          "metadata": {
            "tags": []
          }
        }
      ]
    },
    {
      "cell_type": "code",
      "metadata": {
        "id": "f009a81Zp2aD",
        "colab_type": "code",
        "colab": {},
        "outputId": "ce46b09d-a859-46ce-db44-8f6c15925846"
      },
      "source": [
        "column_names = ['num','date','prix']\n",
        "ramprice = pd.read_csv('ram_price.csv',delimiter=',', names = column_names)\n",
        "display(ramprice.head())"
      ],
      "execution_count": 0,
      "outputs": [
        {
          "output_type": "display_data",
          "data": {
            "text/html": [
              "<div>\n",
              "<style scoped>\n",
              "    .dataframe tbody tr th:only-of-type {\n",
              "        vertical-align: middle;\n",
              "    }\n",
              "\n",
              "    .dataframe tbody tr th {\n",
              "        vertical-align: top;\n",
              "    }\n",
              "\n",
              "    .dataframe thead th {\n",
              "        text-align: right;\n",
              "    }\n",
              "</style>\n",
              "<table border=\"1\" class=\"dataframe\">\n",
              "  <thead>\n",
              "    <tr style=\"text-align: right;\">\n",
              "      <th></th>\n",
              "      <th>num</th>\n",
              "      <th>date</th>\n",
              "      <th>prix</th>\n",
              "    </tr>\n",
              "  </thead>\n",
              "  <tbody>\n",
              "    <tr>\n",
              "      <td>0</td>\n",
              "      <td>NaN</td>\n",
              "      <td>date</td>\n",
              "      <td>price</td>\n",
              "    </tr>\n",
              "    <tr>\n",
              "      <td>1</td>\n",
              "      <td>0.0</td>\n",
              "      <td>1957.0</td>\n",
              "      <td>411041792.0</td>\n",
              "    </tr>\n",
              "    <tr>\n",
              "      <td>2</td>\n",
              "      <td>1.0</td>\n",
              "      <td>1959.0</td>\n",
              "      <td>67947725.0</td>\n",
              "    </tr>\n",
              "    <tr>\n",
              "      <td>3</td>\n",
              "      <td>2.0</td>\n",
              "      <td>1960.0</td>\n",
              "      <td>5242880.0</td>\n",
              "    </tr>\n",
              "    <tr>\n",
              "      <td>4</td>\n",
              "      <td>3.0</td>\n",
              "      <td>1965.0</td>\n",
              "      <td>2642412.0</td>\n",
              "    </tr>\n",
              "  </tbody>\n",
              "</table>\n",
              "</div>"
            ],
            "text/plain": [
              "   num    date         prix\n",
              "0  NaN    date        price\n",
              "1  0.0  1957.0  411041792.0\n",
              "2  1.0  1959.0   67947725.0\n",
              "3  2.0  1960.0    5242880.0\n",
              "4  3.0  1965.0    2642412.0"
            ]
          },
          "metadata": {
            "tags": []
          }
        }
      ]
    },
    {
      "cell_type": "code",
      "metadata": {
        "id": "bLKnCpEsp2aF",
        "colab_type": "code",
        "colab": {},
        "outputId": "c33fe649-f39c-4c69-bb67-522ec5e16ed7"
      },
      "source": [
        "display(ramprice.tail())"
      ],
      "execution_count": 0,
      "outputs": [
        {
          "output_type": "display_data",
          "data": {
            "text/html": [
              "<div>\n",
              "<style scoped>\n",
              "    .dataframe tbody tr th:only-of-type {\n",
              "        vertical-align: middle;\n",
              "    }\n",
              "\n",
              "    .dataframe tbody tr th {\n",
              "        vertical-align: top;\n",
              "    }\n",
              "\n",
              "    .dataframe thead th {\n",
              "        text-align: right;\n",
              "    }\n",
              "</style>\n",
              "<table border=\"1\" class=\"dataframe\">\n",
              "  <thead>\n",
              "    <tr style=\"text-align: right;\">\n",
              "      <th></th>\n",
              "      <th>num</th>\n",
              "      <th>date</th>\n",
              "      <th>prix</th>\n",
              "    </tr>\n",
              "  </thead>\n",
              "  <tbody>\n",
              "    <tr>\n",
              "      <td>329</td>\n",
              "      <td>328.0</td>\n",
              "      <td>2015.58</td>\n",
              "      <td>0.0045</td>\n",
              "    </tr>\n",
              "    <tr>\n",
              "      <td>330</td>\n",
              "      <td>329.0</td>\n",
              "      <td>2015.67</td>\n",
              "      <td>0.0043</td>\n",
              "    </tr>\n",
              "    <tr>\n",
              "      <td>331</td>\n",
              "      <td>330.0</td>\n",
              "      <td>2015.75</td>\n",
              "      <td>0.0042</td>\n",
              "    </tr>\n",
              "    <tr>\n",
              "      <td>332</td>\n",
              "      <td>331.0</td>\n",
              "      <td>2015.83</td>\n",
              "      <td>0.0038</td>\n",
              "    </tr>\n",
              "    <tr>\n",
              "      <td>333</td>\n",
              "      <td>332.0</td>\n",
              "      <td>2015.92</td>\n",
              "      <td>0.0037</td>\n",
              "    </tr>\n",
              "  </tbody>\n",
              "</table>\n",
              "</div>"
            ],
            "text/plain": [
              "       num     date    prix\n",
              "329  328.0  2015.58  0.0045\n",
              "330  329.0  2015.67  0.0043\n",
              "331  330.0  2015.75  0.0042\n",
              "332  331.0  2015.83  0.0038\n",
              "333  332.0  2015.92  0.0037"
            ]
          },
          "metadata": {
            "tags": []
          }
        }
      ]
    },
    {
      "cell_type": "code",
      "metadata": {
        "id": "ftCvHS03p2aH",
        "colab_type": "code",
        "colab": {},
        "outputId": "a6054f8c-4a21-496d-cb6b-2876b05c804c"
      },
      "source": [
        "display(ramprice.sample(2))"
      ],
      "execution_count": 0,
      "outputs": [
        {
          "output_type": "display_data",
          "data": {
            "text/html": [
              "<div>\n",
              "<style scoped>\n",
              "    .dataframe tbody tr th:only-of-type {\n",
              "        vertical-align: middle;\n",
              "    }\n",
              "\n",
              "    .dataframe tbody tr th {\n",
              "        vertical-align: top;\n",
              "    }\n",
              "\n",
              "    .dataframe thead th {\n",
              "        text-align: right;\n",
              "    }\n",
              "</style>\n",
              "<table border=\"1\" class=\"dataframe\">\n",
              "  <thead>\n",
              "    <tr style=\"text-align: right;\">\n",
              "      <th></th>\n",
              "      <th>num</th>\n",
              "      <th>date</th>\n",
              "      <th>prix</th>\n",
              "    </tr>\n",
              "  </thead>\n",
              "  <tbody>\n",
              "    <tr>\n",
              "      <td>204</td>\n",
              "      <td>203.0</td>\n",
              "      <td>2000.08</td>\n",
              "      <td>1.48</td>\n",
              "    </tr>\n",
              "    <tr>\n",
              "      <td>289</td>\n",
              "      <td>288.0</td>\n",
              "      <td>2010.33</td>\n",
              "      <td>0.0242</td>\n",
              "    </tr>\n",
              "  </tbody>\n",
              "</table>\n",
              "</div>"
            ],
            "text/plain": [
              "       num     date    prix\n",
              "204  203.0  2000.08    1.48\n",
              "289  288.0  2010.33  0.0242"
            ]
          },
          "metadata": {
            "tags": []
          }
        }
      ]
    },
    {
      "cell_type": "code",
      "metadata": {
        "id": "HXP7J33Ip2aK",
        "colab_type": "code",
        "colab": {},
        "outputId": "7783950a-1b37-4bd4-b7e7-f26b6185032e"
      },
      "source": [
        "display(ramprice['prix'])"
      ],
      "execution_count": 0,
      "outputs": [
        {
          "output_type": "display_data",
          "data": {
            "text/plain": [
              "0            price\n",
              "1      411041792.0\n",
              "2       67947725.0\n",
              "3        5242880.0\n",
              "4        2642412.0\n",
              "          ...     \n",
              "329         0.0045\n",
              "330         0.0043\n",
              "331         0.0042\n",
              "332         0.0038\n",
              "333         0.0037\n",
              "Name: prix, Length: 334, dtype: object"
            ]
          },
          "metadata": {
            "tags": []
          }
        }
      ]
    },
    {
      "cell_type": "code",
      "metadata": {
        "id": "h0KNgCpmp2aM",
        "colab_type": "code",
        "colab": {},
        "outputId": "60d2b05f-a311-4721-ba8c-5936348d75b1"
      },
      "source": [
        "display(ramprice.prix)"
      ],
      "execution_count": 0,
      "outputs": [
        {
          "output_type": "display_data",
          "data": {
            "text/plain": [
              "0            price\n",
              "1      411041792.0\n",
              "2       67947725.0\n",
              "3        5242880.0\n",
              "4        2642412.0\n",
              "          ...     \n",
              "329         0.0045\n",
              "330         0.0043\n",
              "331         0.0042\n",
              "332         0.0038\n",
              "333         0.0037\n",
              "Name: prix, Length: 334, dtype: object"
            ]
          },
          "metadata": {
            "tags": []
          }
        }
      ]
    },
    {
      "cell_type": "markdown",
      "metadata": {
        "id": "ne4baVb2p2aP",
        "colab_type": "text"
      },
      "source": [
        "### 1ère application : Classifier les espèces d'Iris \n",
        "![sepal_petal](iris_petal_sepal.png)\n",
        "#### Chargement des données"
      ]
    },
    {
      "cell_type": "code",
      "metadata": {
        "id": "ZSIUQ4osp2aP",
        "colab_type": "code",
        "colab": {},
        "outputId": "2e4c7741-d79e-4690-f321-7b7e74bf2ef2"
      },
      "source": [
        "from sklearn.datasets import load_iris\n",
        "iris_dataset = load_iris()\n",
        "print(\"Keys of iris_dataset:\\n\", iris_dataset.keys())"
      ],
      "execution_count": 0,
      "outputs": [
        {
          "output_type": "stream",
          "text": [
            "Keys of iris_dataset:\n",
            " dict_keys(['data', 'target', 'target_names', 'DESCR', 'feature_names', 'filename'])\n"
          ],
          "name": "stdout"
        }
      ]
    },
    {
      "cell_type": "markdown",
      "metadata": {
        "id": "2crhKKr5p2aU",
        "colab_type": "text"
      },
      "source": [
        "> Q. Afficher:\n",
        "- les noms des attributs\n",
        "- le noms (codes) des classes \n",
        "- le noms des labels\n",
        "- la valeur de chaque attribut d'un individu et sa classe associée\n",
        "\n",
        "> Quel est le type d'algorithmes souhaitables pour ce type de données ?"
      ]
    },
    {
      "cell_type": "code",
      "metadata": {
        "id": "vAdQKNVzp2aW",
        "colab_type": "code",
        "colab": {},
        "outputId": "d1cb023b-17c0-46f0-94bd-44ced41cdd0b"
      },
      "source": [
        "print(\"Type of data:\", type(iris_dataset['data']))"
      ],
      "execution_count": 0,
      "outputs": [
        {
          "output_type": "stream",
          "text": [
            "Type of data: <class 'numpy.ndarray'>\n"
          ],
          "name": "stdout"
        }
      ]
    },
    {
      "cell_type": "code",
      "metadata": {
        "id": "E0-lD86ip2ab",
        "colab_type": "code",
        "colab": {},
        "outputId": "f571ac53-884d-40c5-95fa-f6272e172d28"
      },
      "source": [
        "print(\"Shape of data:\", iris_dataset['data'].shape)"
      ],
      "execution_count": 0,
      "outputs": [
        {
          "output_type": "stream",
          "text": [
            "Shape of data: (150, 4)\n"
          ],
          "name": "stdout"
        }
      ]
    },
    {
      "cell_type": "code",
      "metadata": {
        "id": "0AscnTOOp2ad",
        "colab_type": "code",
        "colab": {},
        "outputId": "6b487114-d224-41e2-ba70-7529100ec498"
      },
      "source": [
        "print(\"First five rows of data:\\n\", iris_dataset['data'][:5])"
      ],
      "execution_count": 0,
      "outputs": [
        {
          "output_type": "stream",
          "text": [
            "First five rows of data:\n",
            " [[5.1 3.5 1.4 0.2]\n",
            " [4.9 3.  1.4 0.2]\n",
            " [4.7 3.2 1.3 0.2]\n",
            " [4.6 3.1 1.5 0.2]\n",
            " [5.  3.6 1.4 0.2]]\n"
          ],
          "name": "stdout"
        }
      ]
    },
    {
      "cell_type": "markdown",
      "metadata": {
        "id": "zhs56LqIp2ag",
        "colab_type": "text"
      },
      "source": [
        "## Données d'entrainements et de test (training and testing data)"
      ]
    },
    {
      "cell_type": "code",
      "metadata": {
        "id": "zgV2i6xZp2ag",
        "colab_type": "code",
        "colab": {},
        "outputId": "52b002e1-ffa1-4c92-cfe8-59d1052f49cf"
      },
      "source": [
        "from sklearn.model_selection import train_test_split\n",
        "X_train, X_test, y_train, y_test = train_test_split(iris_dataset['data'], iris_dataset['target'], random_state=1)\n",
        "print(X_test[:10])"
      ],
      "execution_count": 0,
      "outputs": [
        {
          "output_type": "stream",
          "text": [
            "[[5.7 2.8 4.5 1.3]\n",
            " [5.  2.3 3.3 1. ]\n",
            " [6.2 2.2 4.5 1.5]\n",
            " [6.2 2.8 4.8 1.8]\n",
            " [5.4 3.4 1.7 0.2]\n",
            " [6.1 3.  4.9 1.8]\n",
            " [6.7 2.5 5.8 1.8]\n",
            " [5.9 3.  5.1 1.8]\n",
            " [6.3 3.4 5.6 2.4]\n",
            " [4.9 2.5 4.5 1.7]]\n"
          ],
          "name": "stdout"
        }
      ]
    },
    {
      "cell_type": "code",
      "metadata": {
        "id": "zkYvGD3Ip2aj",
        "colab_type": "code",
        "colab": {}
      },
      "source": [
        "from sklearn.model_selection import train_test_split\n",
        "X_train, X_test, y_train, y_test = train_test_split(iris_dataset['data'], iris_dataset['target'], random_state=2)\n",
        "print(X_test[:10])"
      ],
      "execution_count": 0,
      "outputs": []
    },
    {
      "cell_type": "code",
      "metadata": {
        "id": "-RZPp3A9p2al",
        "colab_type": "code",
        "colab": {}
      },
      "source": [
        "rom sklearn.model_selection import train_test_split\n",
        "X_train, X_test, y_train, y_test = train_test_split(iris_dataset['data'], iris_dataset['target'])\n",
        "print(X_test[:10])"
      ],
      "execution_count": 0,
      "outputs": []
    },
    {
      "cell_type": "markdown",
      "metadata": {
        "id": "XyhJo540p2an",
        "colab_type": "text"
      },
      "source": [
        "> Exécutez plusieurs fois les codes ci-dessus, Quel est le rôle du paramètre random_state"
      ]
    },
    {
      "cell_type": "code",
      "metadata": {
        "id": "68LZf1Rgp2ao",
        "colab_type": "code",
        "colab": {},
        "outputId": "b096c2bf-04b5-416d-db2f-dcda035ae9a6"
      },
      "source": [
        "print(iris_dataset['data'].shape)\n",
        "print(X_train.shape,y_train.shape)\n",
        "print(X_test.shape,y_test.shape)"
      ],
      "execution_count": 0,
      "outputs": [
        {
          "output_type": "stream",
          "text": [
            "(150, 4)\n",
            "(112, 4) (112,)\n",
            "(38, 4) (38,)\n"
          ],
          "name": "stdout"
        }
      ]
    },
    {
      "cell_type": "markdown",
      "metadata": {
        "id": "HPX9oZcyp2aq",
        "colab_type": "text"
      },
      "source": [
        "> Quel est le pourcentage de lignes (individus) choisi pour le jeux de données de test et d'entrainements"
      ]
    },
    {
      "cell_type": "markdown",
      "metadata": {
        "id": "HRq914bGp2aq",
        "colab_type": "text"
      },
      "source": [
        "## Analyser graphiquement les données"
      ]
    },
    {
      "cell_type": "code",
      "metadata": {
        "id": "IDNv6ACep2ar",
        "colab_type": "code",
        "colab": {},
        "outputId": "70cba552-f831-4c73-89f2-67dc3454f654"
      },
      "source": [
        "# create dataframe from data in X_train\n",
        "# label the columns using the strings in iris_dataset.feature_names\n",
        "iris_dataframe = pd.DataFrame(X_train, columns=iris_dataset.feature_names)\n",
        "# create a scatter matrix from the dataframe, color by y_train\n",
        "pd.plotting.scatter_matrix(iris_dataframe, c=y_train, figsize=(15, 15),\n",
        "                           marker='o', hist_kwds={'bins': 20}, s=60,\n",
        "                           alpha=.8)"
      ],
      "execution_count": 0,
      "outputs": [
        {
          "output_type": "execute_result",
          "data": {
            "text/plain": [
              "array([[<matplotlib.axes._subplots.AxesSubplot object at 0x7f47780af710>,\n",
              "        <matplotlib.axes._subplots.AxesSubplot object at 0x7f4778067610>,\n",
              "        <matplotlib.axes._subplots.AxesSubplot object at 0x7f4778017e10>,\n",
              "        <matplotlib.axes._subplots.AxesSubplot object at 0x7f4772fd3650>],\n",
              "       [<matplotlib.axes._subplots.AxesSubplot object at 0x7f4772f85e50>,\n",
              "        <matplotlib.axes._subplots.AxesSubplot object at 0x7f4772f46690>,\n",
              "        <matplotlib.axes._subplots.AxesSubplot object at 0x7f4772f7be90>,\n",
              "        <matplotlib.axes._subplots.AxesSubplot object at 0x7f4772f3c6d0>],\n",
              "       [<matplotlib.axes._subplots.AxesSubplot object at 0x7f4772ec7250>,\n",
              "        <matplotlib.axes._subplots.AxesSubplot object at 0x7f4772efabd0>,\n",
              "        <matplotlib.axes._subplots.AxesSubplot object at 0x7f4772e65f10>,\n",
              "        <matplotlib.axes._subplots.AxesSubplot object at 0x7f4772e27750>],\n",
              "       [<matplotlib.axes._subplots.AxesSubplot object at 0x7f4772ddbf50>,\n",
              "        <matplotlib.axes._subplots.AxesSubplot object at 0x7f4772d9d790>,\n",
              "        <matplotlib.axes._subplots.AxesSubplot object at 0x7f4772d51f90>,\n",
              "        <matplotlib.axes._subplots.AxesSubplot object at 0x7f4772d127d0>]],\n",
              "      dtype=object)"
            ]
          },
          "metadata": {
            "tags": []
          },
          "execution_count": 125
        },
        {
          "output_type": "display_data",
          "data": {
            "image/png": "[encoded data removed]",
            "text/plain": [
              "<Figure size 1080x1080 with 16 Axes>"
            ]
          },
          "metadata": {
            "tags": [],
            "needs_background": "light"
          }
        }
      ]
    },
    {
      "cell_type": "markdown",
      "metadata": {
        "id": "pkm8URzQp2au",
        "colab_type": "text"
      },
      "source": [
        "## 1er modèle : k-Nearest Neighbors"
      ]
    },
    {
      "cell_type": "code",
      "metadata": {
        "id": "u8znDfvsp2av",
        "colab_type": "code",
        "colab": {},
        "outputId": "cb8a1a37-0295-41d8-97fa-c6765a1deb92"
      },
      "source": [
        "from sklearn.neighbors import KNeighborsClassifier\n",
        "knn = KNeighborsClassifier(n_neighbors=1)\n",
        "knn.fit(X_train,y_train)"
      ],
      "execution_count": 0,
      "outputs": [
        {
          "output_type": "execute_result",
          "data": {
            "text/plain": [
              "KNeighborsClassifier(algorithm='auto', leaf_size=30, metric='minkowski',\n",
              "                     metric_params=None, n_jobs=None, n_neighbors=1, p=2,\n",
              "                     weights='uniform')"
            ]
          },
          "metadata": {
            "tags": []
          },
          "execution_count": 128
        }
      ]
    },
    {
      "cell_type": "code",
      "metadata": {
        "id": "VwaeOpdQp2ax",
        "colab_type": "code",
        "colab": {},
        "outputId": "cf544c0f-a964-4e61-fe3e-834de8efb895"
      },
      "source": [
        "X_new = np.array([[5, 2.9, 1, 0.2]])\n",
        "prediction = knn.predict(X_new)\n",
        "print(\"Prediction:\", prediction)\n",
        "print(\"Predicted target name:\",\n",
        "       iris_dataset['target_names'][prediction])"
      ],
      "execution_count": 0,
      "outputs": [
        {
          "output_type": "stream",
          "text": [
            "Prediction: [0]\n",
            "Predicted target name: ['setosa']\n"
          ],
          "name": "stdout"
        }
      ]
    },
    {
      "cell_type": "code",
      "metadata": {
        "id": "DZRPHHimp2a0",
        "colab_type": "code",
        "colab": {},
        "outputId": "c55ab463-17b5-4009-eb48-a6ed0b0e3a54"
      },
      "source": [
        "y_eval = knn.predict(X_test)\n",
        "print(y_eval)"
      ],
      "execution_count": 0,
      "outputs": [
        {
          "output_type": "stream",
          "text": [
            "[1 1 1 2 0 2 2 2 2 1 2 1 0 0 0 1 1 2 0 2 2 1 2 1 1 2 2 1 0 2 1 0 0 1 0 0 1\n",
            " 1]\n"
          ],
          "name": "stdout"
        }
      ]
    },
    {
      "cell_type": "code",
      "metadata": {
        "id": "ApSI-CHCp2a2",
        "colab_type": "code",
        "colab": {},
        "outputId": "8755fc5c-434f-4fcc-80bb-fae2d2eff75a"
      },
      "source": [
        "\"Test set score: {:.2f}\".format(np.mean(y_eval == y_test))"
      ],
      "execution_count": 0,
      "outputs": [
        {
          "output_type": "execute_result",
          "data": {
            "text/plain": [
              "'Test set score: 0.95'"
            ]
          },
          "metadata": {
            "tags": []
          },
          "execution_count": 134
        }
      ]
    },
    {
      "cell_type": "code",
      "metadata": {
        "id": "vm4NFzfSp2a4",
        "colab_type": "code",
        "colab": {},
        "outputId": "5814cc1f-60f9-48c8-8998-e48aa987fa96"
      },
      "source": [
        "print(\"Test set score: {:.2f}\".format(knn.score(X_test, y_test)))"
      ],
      "execution_count": 0,
      "outputs": [
        {
          "output_type": "stream",
          "text": [
            "Test set score: 0.95\n"
          ],
          "name": "stdout"
        }
      ]
    },
    {
      "cell_type": "markdown",
      "metadata": {
        "id": "cY9Dm-tAp2a6",
        "colab_type": "text"
      },
      "source": [
        "> refaire les memes étapes pour payment_fraud.csv"
      ]
    },
    {
      "cell_type": "code",
      "metadata": {
        "id": "5gRK0aJLp2a8",
        "colab_type": "code",
        "colab": {}
      },
      "source": [
        ""
      ],
      "execution_count": 0,
      "outputs": []
    }
  ]
}